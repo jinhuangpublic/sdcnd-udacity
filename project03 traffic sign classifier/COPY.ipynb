{
 "cells": [
  {
   "cell_type": "code",
   "execution_count": 22,
   "metadata": {},
   "outputs": [],
   "source": [
    "# --------------------------------------\n",
    "# Imports\n",
    "# --------------------------------------\n",
    "\n",
    "import matplotlib.pyplot as plt\n",
    "import matplotlib.image as mpimg\n",
    "import cv2\n",
    "import os\n",
    "from collections import deque\n",
    "import numpy as np\n",
    "from moviepy.editor import VideoFileClip\n",
    "from os.path import join, basename\n",
    "\n",
    "import numpy as np\n",
    "import cv2\n",
    "import matplotlib.pyplot as plt\n",
    "import matplotlib.image as mpimg\n",
    "import pickle\n",
    "import pdb\n",
    "\n",
    "import numpy as np\n",
    "import cv2\n",
    "import glob\n",
    "import matplotlib.pyplot as plt\n",
    "import pandas as pd\n",
    "    \n",
    "import os.path\n",
    "\n",
    "import random\n",
    "from sklearn.utils import shuffle\n",
    "import pdb\n",
    "\n",
    "import tensorflow as tf\n",
    "from tensorflow.contrib.layers import flatten\n",
    "from keras.preprocessing.image import ImageDataGenerator\n",
    "\n",
    "# Imports for Jupyter\n",
    "%matplotlib inline\n",
    "\n"
   ]
  },
  {
   "cell_type": "code",
   "execution_count": 23,
   "metadata": {},
   "outputs": [
    {
     "data": {
      "application/javascript": [
       "IPython.OutputArea.prototype._should_scroll = function(lines) {\n",
       "    return false;\n",
       "}\n"
      ],
      "text/plain": [
       "<IPython.core.display.Javascript object>"
      ]
     },
     "metadata": {},
     "output_type": "display_data"
    }
   ],
   "source": [
    "%%javascript\n",
    "IPython.OutputArea.prototype._should_scroll = function(lines) {\n",
    "    return false;\n",
    "}"
   ]
  },
  {
   "cell_type": "code",
   "execution_count": 24,
   "metadata": {},
   "outputs": [],
   "source": [
    "# --------------------------------------\n",
    "# Helper Functions\n",
    "# --------------------------------------\n",
    "def show_image(image, title=\"One Image\", cmap=None, figsize=(14, 9)):\n",
    "    f, ax1 = plt.subplots(1, 1, figsize=figsize)\n",
    "    f.suptitle(title, fontsize=16)\n",
    "    f.tight_layout()\n",
    "    ax1.imshow(image, cmap=cmap)\n",
    "    # ax1.set_title('First Image', fontsize=50)\n",
    "    # ax2.imshow(image2, cmap=cmap2)\n",
    "    # ax2.set_title('Second Image', fontsize=50)\n",
    "    # plt.subplots_adjust(left=0., right=1, top=0.9, bottom=0.)\n",
    "    plt.show()\n"
   ]
  },
  {
   "cell_type": "markdown",
   "metadata": {},
   "source": [
    "---\n",
    "## Load Data"
   ]
  },
  {
   "cell_type": "code",
   "execution_count": 25,
   "metadata": {},
   "outputs": [],
   "source": [
    "# Load pickled data\n",
    "import pickle\n",
    "\n",
    "# TODO: Fill this in based on where you saved the training and testing data\n",
    "\n",
    "training_file = \"./traffic_signs_data/train.p\"\n",
    "validation_file= \"./traffic_signs_data/valid.p\"\n",
    "testing_file = \"traffic_signs_data/test.p\"\n",
    "\n",
    "with open(training_file, mode='rb') as f:\n",
    "    train = pickle.load(f)\n",
    "with open(validation_file, mode='rb') as f:\n",
    "    valid = pickle.load(f)\n",
    "with open(testing_file, mode='rb') as f:\n",
    "    test = pickle.load(f)\n",
    "    \n",
    "X_train, y_train = train['features'], train['labels']\n",
    "X_valid, y_valid = valid['features'], valid['labels']\n",
    "X_test, y_test = test['features'], test['labels']\n",
    "\n",
    "n_train = X_train.shape[0]\n",
    "n_valid = X_valid.shape[0]\n",
    "n_test = X_test.shape[0]\n"
   ]
  },
  {
   "cell_type": "code",
   "execution_count": 26,
   "metadata": {},
   "outputs": [
    {
     "name": "stdout",
     "output_type": "stream",
     "text": [
      "WARNING:tensorflow:Tensor._shape is private, use Tensor.shape instead. Tensor._shape will eventually be removed.\n",
      "WARNING:tensorflow:Tensor._shape is private, use Tensor.shape instead. Tensor._shape will eventually be removed.\n"
     ]
    }
   ],
   "source": [
    "def preprocess_features(X, equalize_hist=True):\n",
    "\n",
    "    # convert from RGB to YUV\n",
    "    X = np.array([np.expand_dims(cv2.cvtColor(rgb_img, cv2.COLOR_RGB2YUV)[:, :, 0], 2) for rgb_img in X])\n",
    "\n",
    "    # adjust image contrast\n",
    "    if equalize_hist:\n",
    "        X = np.array([np.expand_dims(cv2.equalizeHist(np.uint8(img)), 2) for img in X])\n",
    "\n",
    "    X = np.float32(X)\n",
    "\n",
    "    # standardize features\n",
    "    X -= np.mean(X, axis=0)\n",
    "    X /= (np.std(X, axis=0) + np.finfo('float32').eps)\n",
    "\n",
    "    return X\n",
    "\n",
    "X_train_norm = preprocess_features(X_train)\n",
    "X_test_norm = preprocess_features(X_test)\n",
    "X_valid_norm = preprocess_features(X_valid)\n",
    "\n",
    "image_datagen = ImageDataGenerator(rotation_range=15.,\n",
    "                                   zoom_range=0.2,\n",
    "                                   width_shift_range=0.1,\n",
    "                                   height_shift_range=0.1)\n",
    "\n",
    "def weight_variable(shape, mu=0, sigma=0.1):\n",
    "    initialization = tf.truncated_normal(shape=shape, mean=mu, stddev=sigma)\n",
    "    return tf.Variable(initialization)\n",
    "\n",
    "\n",
    "def bias_variable(shape, start_val=0.1):\n",
    "    initialization = tf.constant(start_val, shape=shape)\n",
    "    return tf.Variable(initialization)\n",
    "\n",
    "\n",
    "def conv2d(x, W, strides=[1, 1, 1, 1], padding='SAME'):\n",
    "    return tf.nn.conv2d(input=x, filter=W, strides=strides, padding=padding)\n",
    "\n",
    "\n",
    "def max_pool_2x2(x):\n",
    "    return tf.nn.max_pool(value=x, ksize=[1, 2, 2, 1], strides=[1, 2, 2, 1], padding='SAME')\n",
    "\n",
    "\n",
    "# network architecture definition\n",
    "def my_net(x, n_classes):\n",
    "\n",
    "    c1_out = 64\n",
    "    conv1_W = weight_variable(shape=(3, 3, 1, c1_out))\n",
    "    conv1_b = bias_variable(shape=(c1_out,))\n",
    "    conv1 = tf.nn.relu(conv2d(x, conv1_W) + conv1_b)\n",
    "\n",
    "    pool1 = max_pool_2x2(conv1)\n",
    "\n",
    "    drop1 = tf.nn.dropout(pool1, keep_prob=keep_prob)\n",
    "\n",
    "    c2_out = 128\n",
    "    conv2_W = weight_variable(shape=(3, 3, c1_out, c2_out))\n",
    "    conv2_b = bias_variable(shape=(c2_out,))\n",
    "    conv2 = tf.nn.relu(conv2d(drop1, conv2_W) + conv2_b)\n",
    "\n",
    "    pool2 = max_pool_2x2(conv2)\n",
    "\n",
    "    drop2 = tf.nn.dropout(pool2, keep_prob=keep_prob)\n",
    "\n",
    "    fc0 = tf.concat([flatten(drop1), flatten(drop2)], 1)\n",
    "\n",
    "    fc1_out = 64\n",
    "    fc1_W = weight_variable(shape=(fc0._shape[1].value, fc1_out))\n",
    "    fc1_b = bias_variable(shape=(fc1_out,))\n",
    "    fc1 = tf.matmul(fc0, fc1_W) + fc1_b\n",
    "\n",
    "    drop_fc1 = tf.nn.dropout(fc1, keep_prob=keep_prob)\n",
    "\n",
    "    fc2_out = n_classes\n",
    "    fc2_W = weight_variable(shape=(drop_fc1._shape[1].value, fc2_out))\n",
    "    fc2_b = bias_variable(shape=(fc2_out,))\n",
    "    logits = tf.matmul(drop_fc1, fc2_W) + fc2_b\n",
    "\n",
    "    return logits\n",
    "\n",
    "\n",
    "# placeholders\n",
    "x = tf.placeholder(dtype=tf.float32, shape=(None, 32, 32, 1))\n",
    "y = tf.placeholder(dtype=tf.int32, shape=None)\n",
    "keep_prob = tf.placeholder(tf.float32)\n",
    "\n",
    "\n",
    "# training pipeline\n",
    "lr = 0.001\n",
    "logits = my_net(x, n_classes=n_classes)\n",
    "cross_entropy = tf.nn.sparse_softmax_cross_entropy_with_logits(logits=logits, labels=y)\n",
    "loss_function = tf.reduce_mean(cross_entropy)\n",
    "optimizer = tf.train.AdamOptimizer(learning_rate=lr)\n",
    "train_step = optimizer.minimize(loss=loss_function)\n"
   ]
  },
  {
   "cell_type": "code",
   "execution_count": 31,
   "metadata": {},
   "outputs": [
    {
     "name": "stdout",
     "output_type": "stream",
     "text": [
      "EPOCH 1 ...\n",
      "batch counter: 100\n",
      "batch counter: 200\n",
      "batch counter: 300\n",
      "batch counter: 400\n",
      "batch counter: 500\n",
      "batch counter: 600\n",
      "batch counter: 700\n",
      "batch counter: 800\n",
      "batch counter: 900\n",
      "Train Accuracy = 0.682 - Validation Accuracy: 0.641\n"
     ]
    }
   ],
   "source": [
    "# training hyperparameters\n",
    "BATCHSIZE = 128\n",
    "EPOCHS = 30\n",
    "BATCHES_PER_EPOCH = 5000\n",
    "\n",
    "EPOCHS = 1\n",
    "BATCHES_PER_EPOCH = 1000\n",
    "\n",
    "# metrics and functions for model evaluation\n",
    "correct_prediction = tf.equal(tf.argmax(logits, 1), tf.cast(y, tf.int64))\n",
    "accuracy_operation = tf.reduce_mean(tf.cast(correct_prediction, tf.float32))\n",
    "\n",
    "def evaluate(X_data, y_data):\n",
    "    \n",
    "    num_examples = X_data.shape[0]\n",
    "    total_accuracy = 0\n",
    "    \n",
    "    sess = tf.get_default_session()\n",
    "    for offset in range(0, num_examples, BATCHSIZE):\n",
    "        batch_x, batch_y = X_data[offset:offset+BATCHSIZE], y_data[offset:offset+BATCHSIZE]\n",
    "        accuracy = sess.run(accuracy_operation, feed_dict={x: batch_x, y: batch_y, keep_prob: 1.0})\n",
    "        total_accuracy += accuracy * len(batch_x)\n",
    "        \n",
    "    return total_accuracy / num_examples\n",
    "\n",
    "# create a checkpointer to log the weights during training\n",
    "checkpointer = tf.train.Saver()\n",
    "\n",
    "# start training\n",
    "with tf.Session() as sess:\n",
    "\n",
    "    sess.run(tf.global_variables_initializer())\n",
    "\n",
    "    for epoch in range(EPOCHS):\n",
    "\n",
    "        print(\"EPOCH {} ...\".format(epoch + 1))\n",
    "\n",
    "        batch_counter = 0\n",
    "        for batch_x, batch_y in image_datagen.flow(X_train_norm, y_train, batch_size=BATCHSIZE):\n",
    "\n",
    "            batch_counter += 1\n",
    "            sess.run(train_step, feed_dict={x: batch_x, y: batch_y, keep_prob: 0.5})\n",
    "\n",
    "            if batch_counter == BATCHES_PER_EPOCH:\n",
    "                break\n",
    "                \n",
    "            if (batch_counter % 100 == 0):\n",
    "                print(f\"batch counter: {batch_counter}\")\n",
    "                \n",
    "\n",
    "        # at epoch end, evaluate accuracy on both training and validation set\n",
    "        train_accuracy = evaluate(X_train_norm, y_train)\n",
    "        val_accuracy = evaluate(X_valid_norm, y_valid)\n",
    "        print('Train Accuracy = {:.3f} - Validation Accuracy: {:.3f}'.format(train_accuracy, val_accuracy))\n",
    "        \n",
    "        # log current weights\n",
    "        checkpointer.save(sess, save_path='./data/model_check', global_step=epoch)"
   ]
  },
  {
   "cell_type": "markdown",
   "metadata": {},
   "source": [
    "### Train, Validate and Test the Model"
   ]
  },
  {
   "cell_type": "markdown",
   "metadata": {},
   "source": [
    "A validation set can be used to assess how well the model is performing. A low accuracy on the training and validation\n",
    "sets imply underfitting. A high accuracy on the training set but low accuracy on the validation set implies overfitting."
   ]
  },
  {
   "cell_type": "markdown",
   "metadata": {},
   "source": [
    "---\n",
    "\n",
    "## Step 3: Test a Model on New Images\n",
    "\n",
    "To give yourself more insight into how your model is working, download at least five pictures of German traffic signs from the web and use your model to predict the traffic sign type.\n",
    "\n",
    "You may find `signnames.csv` useful as it contains mappings from the class id (integer) to the actual sign name."
   ]
  },
  {
   "cell_type": "markdown",
   "metadata": {},
   "source": [
    "### Load and Output the Images"
   ]
  },
  {
   "cell_type": "code",
   "execution_count": null,
   "metadata": {
    "collapsed": true
   },
   "outputs": [],
   "source": [
    "### Load the images and plot them here.\n",
    "### Feel free to use as many code cells as needed."
   ]
  },
  {
   "cell_type": "markdown",
   "metadata": {},
   "source": [
    "### Predict the Sign Type for Each Image"
   ]
  },
  {
   "cell_type": "code",
   "execution_count": 3,
   "metadata": {
    "collapsed": true
   },
   "outputs": [],
   "source": [
    "### Run the predictions here and use the model to output the prediction for each image.\n",
    "### Make sure to pre-process the images with the same pre-processing pipeline used earlier.\n",
    "### Feel free to use as many code cells as needed."
   ]
  },
  {
   "cell_type": "markdown",
   "metadata": {},
   "source": [
    "### Analyze Performance"
   ]
  },
  {
   "cell_type": "code",
   "execution_count": 4,
   "metadata": {
    "collapsed": true
   },
   "outputs": [],
   "source": [
    "### Calculate the accuracy for these 5 new images. \n",
    "### For example, if the model predicted 1 out of 5 signs correctly, it's 20% accurate on these new images."
   ]
  },
  {
   "cell_type": "markdown",
   "metadata": {},
   "source": [
    "### Output Top 5 Softmax Probabilities For Each Image Found on the Web"
   ]
  },
  {
   "cell_type": "markdown",
   "metadata": {},
   "source": [
    "For each of the new images, print out the model's softmax probabilities to show the **certainty** of the model's predictions (limit the output to the top 5 probabilities for each image). [`tf.nn.top_k`](https://www.tensorflow.org/versions/r0.12/api_docs/python/nn.html#top_k) could prove helpful here. \n",
    "\n",
    "The example below demonstrates how tf.nn.top_k can be used to find the top k predictions for each image.\n",
    "\n",
    "`tf.nn.top_k` will return the values and indices (class ids) of the top k predictions. So if k=3, for each sign, it'll return the 3 largest probabilities (out of a possible 43) and the correspoding class ids.\n",
    "\n",
    "Take this numpy array as an example. The values in the array represent predictions. The array contains softmax probabilities for five candidate images with six possible classes. `tf.nn.top_k` is used to choose the three classes with the highest probability:\n",
    "\n",
    "```\n",
    "# (5, 6) array\n",
    "a = np.array([[ 0.24879643,  0.07032244,  0.12641572,  0.34763842,  0.07893497,\n",
    "         0.12789202],\n",
    "       [ 0.28086119,  0.27569815,  0.08594638,  0.0178669 ,  0.18063401,\n",
    "         0.15899337],\n",
    "       [ 0.26076848,  0.23664738,  0.08020603,  0.07001922,  0.1134371 ,\n",
    "         0.23892179],\n",
    "       [ 0.11943333,  0.29198961,  0.02605103,  0.26234032,  0.1351348 ,\n",
    "         0.16505091],\n",
    "       [ 0.09561176,  0.34396535,  0.0643941 ,  0.16240774,  0.24206137,\n",
    "         0.09155967]])\n",
    "```\n",
    "\n",
    "Running it through `sess.run(tf.nn.top_k(tf.constant(a), k=3))` produces:\n",
    "\n",
    "```\n",
    "TopKV2(values=array([[ 0.34763842,  0.24879643,  0.12789202],\n",
    "       [ 0.28086119,  0.27569815,  0.18063401],\n",
    "       [ 0.26076848,  0.23892179,  0.23664738],\n",
    "       [ 0.29198961,  0.26234032,  0.16505091],\n",
    "       [ 0.34396535,  0.24206137,  0.16240774]]), indices=array([[3, 0, 5],\n",
    "       [0, 1, 4],\n",
    "       [0, 5, 1],\n",
    "       [1, 3, 5],\n",
    "       [1, 4, 3]], dtype=int32))\n",
    "```\n",
    "\n",
    "Looking just at the first row we get `[ 0.34763842,  0.24879643,  0.12789202]`, you can confirm these are the 3 largest probabilities in `a`. You'll also notice `[3, 0, 5]` are the corresponding indices."
   ]
  },
  {
   "cell_type": "code",
   "execution_count": 3,
   "metadata": {
    "collapsed": true
   },
   "outputs": [],
   "source": [
    "### Print out the top five softmax probabilities for the predictions on the German traffic sign images found on the web. \n",
    "### Feel free to use as many code cells as needed."
   ]
  },
  {
   "cell_type": "markdown",
   "metadata": {},
   "source": [
    "### Project Writeup\n",
    "\n",
    "Once you have completed the code implementation, document your results in a project writeup using this [template](https://github.com/udacity/CarND-Traffic-Sign-Classifier-Project/blob/master/writeup_template.md) as a guide. The writeup can be in a markdown or pdf file. "
   ]
  },
  {
   "cell_type": "markdown",
   "metadata": {},
   "source": [
    "> **Note**: Once you have completed all of the code implementations and successfully answered each question above, you may finalize your work by exporting the iPython Notebook as an HTML document. You can do this by using the menu above and navigating to  \\n\",\n",
    "    \"**File -> Download as -> HTML (.html)**. Include the finished document along with this notebook as your submission."
   ]
  },
  {
   "cell_type": "markdown",
   "metadata": {},
   "source": [
    "---\n",
    "\n",
    "## Step 4 (Optional): Visualize the Neural Network's State with Test Images\n",
    "\n",
    " This Section is not required to complete but acts as an additional excersise for understaning the output of a neural network's weights. While neural networks can be a great learning device they are often referred to as a black box. We can understand what the weights of a neural network look like better by plotting their feature maps. After successfully training your neural network you can see what it's feature maps look like by plotting the output of the network's weight layers in response to a test stimuli image. From these plotted feature maps, it's possible to see what characteristics of an image the network finds interesting. For a sign, maybe the inner network feature maps react with high activation to the sign's boundary outline or to the contrast in the sign's painted symbol.\n",
    "\n",
    " Provided for you below is the function code that allows you to get the visualization output of any tensorflow weight layer you want. The inputs to the function should be a stimuli image, one used during training or a new one you provided, and then the tensorflow variable name that represents the layer's state during the training process, for instance if you wanted to see what the [LeNet lab's](https://classroom.udacity.com/nanodegrees/nd013/parts/fbf77062-5703-404e-b60c-95b78b2f3f9e/modules/6df7ae49-c61c-4bb2-a23e-6527e69209ec/lessons/601ae704-1035-4287-8b11-e2c2716217ad/concepts/d4aca031-508f-4e0b-b493-e7b706120f81) feature maps looked like for it's second convolutional layer you could enter conv2 as the tf_activation variable.\n",
    "\n",
    "For an example of what feature map outputs look like, check out NVIDIA's results in their paper [End-to-End Deep Learning for Self-Driving Cars](https://devblogs.nvidia.com/parallelforall/deep-learning-self-driving-cars/) in the section Visualization of internal CNN State. NVIDIA was able to show that their network's inner weights had high activations to road boundary lines by comparing feature maps from an image with a clear path to one without. Try experimenting with a similar test to show that your trained network's weights are looking for interesting features, whether it's looking at differences in feature maps from images with or without a sign, or even what feature maps look like in a trained network vs a completely untrained one on the same sign image.\n",
    "\n",
    "<figure>\n",
    " <img src=\"visualize_cnn.png\" width=\"380\" alt=\"Combined Image\" />\n",
    " <figcaption>\n",
    " <p></p> \n",
    " <p style=\"text-align: center;\"> Your output should look something like this (above)</p> \n",
    " </figcaption>\n",
    "</figure>\n",
    " <p></p> \n"
   ]
  },
  {
   "cell_type": "code",
   "execution_count": null,
   "metadata": {
    "collapsed": true
   },
   "outputs": [],
   "source": [
    "### Visualize your network's feature maps here.\n",
    "### Feel free to use as many code cells as needed.\n",
    "\n",
    "# image_input: the test image being fed into the network to produce the feature maps\n",
    "# tf_activation: should be a tf variable name used during your training procedure that represents the calculated state of a specific weight layer\n",
    "# activation_min/max: can be used to view the activation contrast in more detail, by default matplot sets min and max to the actual min and max values of the output\n",
    "# plt_num: used to plot out multiple different weight feature map sets on the same block, just extend the plt number for each new feature map entry\n",
    "\n",
    "def outputFeatureMap(image_input, tf_activation, activation_min=-1, activation_max=-1 ,plt_num=1):\n",
    "    # Here make sure to preprocess your image_input in a way your network expects\n",
    "    # with size, normalization, ect if needed\n",
    "    # image_input =\n",
    "    # Note: x should be the same name as your network's tensorflow data placeholder variable\n",
    "    # If you get an error tf_activation is not defined it may be having trouble accessing the variable from inside a function\n",
    "    activation = tf_activation.eval(session=sess,feed_dict={x : image_input})\n",
    "    featuremaps = activation.shape[3]\n",
    "    plt.figure(plt_num, figsize=(15,15))\n",
    "    for featuremap in range(featuremaps):\n",
    "        plt.subplot(6,8, featuremap+1) # sets the number of feature maps to show on each row and column\n",
    "        plt.title('FeatureMap ' + str(featuremap)) # displays the feature map number\n",
    "        if activation_min != -1 & activation_max != -1:\n",
    "            plt.imshow(activation[0,:,:, featuremap], interpolation=\"nearest\", vmin =activation_min, vmax=activation_max, cmap=\"gray\")\n",
    "        elif activation_max != -1:\n",
    "            plt.imshow(activation[0,:,:, featuremap], interpolation=\"nearest\", vmax=activation_max, cmap=\"gray\")\n",
    "        elif activation_min !=-1:\n",
    "            plt.imshow(activation[0,:,:, featuremap], interpolation=\"nearest\", vmin=activation_min, cmap=\"gray\")\n",
    "        else:\n",
    "            plt.imshow(activation[0,:,:, featuremap], interpolation=\"nearest\", cmap=\"gray\")"
   ]
  }
 ],
 "metadata": {
  "anaconda-cloud": {},
  "kernelspec": {
   "display_name": "Python 3",
   "language": "python",
   "name": "python3"
  },
  "language_info": {
   "codemirror_mode": {
    "name": "ipython",
    "version": 3
   },
   "file_extension": ".py",
   "mimetype": "text/x-python",
   "name": "python",
   "nbconvert_exporter": "python",
   "pygments_lexer": "ipython3",
   "version": "3.6.8"
  }
 },
 "nbformat": 4,
 "nbformat_minor": 1
}
